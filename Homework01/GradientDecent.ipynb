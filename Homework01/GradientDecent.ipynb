{
 "cells": [
  {
   "cell_type": "markdown",
   "metadata": {},
   "source": [
    "### Problem 1: Compute the minimum of f(&beta;) = 3&beta;<sup>2</sup> - 5&beta; + 4\n",
    "\n",
    "\n",
    "f'(&beta;) = 2*3&beta;<sup>2 - 1</sup> - 1 * 5&beta;<sup>1 - 1</sup> + 4 * 0 <br>\n",
    "f'(&beta;) = 6&beta;- 5 <br> <br>\n",
    "In order to compute the minimum, we will find a &beta; such that f'(&beta;) = 0, that is, where the slope of the line is 0. The solution(s) for &beta; will identify the x coordinate of extrema for the function. <br> <br>\n",
    "f'(&beta;) = 6&beta;- 5 = 0 <br>\n",
    "6&beta;- = 5 <br>\n",
    "&beta; = 5/6 <br> <br>\n",
    "Therfore, the minimum value for this function is 5/6."
   ]
  },
  {
   "cell_type": "markdown",
   "metadata": {},
   "source": []
  },
  {
   "cell_type": "code",
   "execution_count": null,
   "metadata": {},
   "outputs": [],
   "source": []
  }
 ],
 "metadata": {
  "language_info": {
   "name": "python"
  }
 },
 "nbformat": 4,
 "nbformat_minor": 2
}

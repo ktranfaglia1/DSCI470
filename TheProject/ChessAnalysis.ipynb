{
 "cells": [
  {
   "cell_type": "markdown",
   "metadata": {},
   "source": [
    "### Author: Kyle Tranfaglia ###\n",
    "### Course: DSCI 470 ###\n",
    "### Assignment: The Project ###\n",
    "### Last Updated: 10/16/24 ###\n",
    "\n",
    "## Background: ##\n",
    "\n",
    "## Question: ##"
   ]
  },
  {
   "cell_type": "markdown",
   "metadata": {},
   "source": [
    "## Prepare for Analysis: Import Libraries and Read in Data"
   ]
  },
  {
   "cell_type": "code",
   "execution_count": 1,
   "metadata": {},
   "outputs": [
    {
     "ename": "",
     "evalue": "",
     "output_type": "error",
     "traceback": [
      "\u001b[1;31mThe Kernel crashed while executing code in the current cell or a previous cell. \n",
      "\u001b[1;31mPlease review the code in the cell(s) to identify a possible cause of the failure. \n",
      "\u001b[1;31mClick <a href='https://aka.ms/vscodeJupyterKernelCrash'>here</a> for more info. \n",
      "\u001b[1;31mView Jupyter <a href='command:jupyter.viewOutput'>log</a> for further details."
     ]
    }
   ],
   "source": [
    "# Import necessary libraries\n",
    "import pandas as pd\n",
    "import matplotlib.pyplot as plt\n",
    "import seaborn as sns\n",
    "\n",
    "# Function to add a leading space if it's missing\n",
    "def add_leading_space(text):\n",
    "    if isinstance(text, str) and not text.startswith(' '):\n",
    "        return ' ' + text\n",
    "    return text\n",
    "\n",
    "# Read in data set\n",
    "df_chess = pd.read_csv(\"Data/Big_chess_data.csv\")\n"
   ]
  },
  {
   "cell_type": "markdown",
   "metadata": {},
   "source": [
    "## Explore the Data ##"
   ]
  },
  {
   "cell_type": "code",
   "execution_count": 10,
   "metadata": {},
   "outputs": [
    {
     "name": "stdout",
     "output_type": "stream",
     "text": [
      "         created_at  last_move_at         turns  white_rating  black_rating  \\\n",
      "count  2.005800e+04  2.005800e+04  20058.000000  20058.000000  20058.000000   \n",
      "mean   1.483617e+12  1.483618e+12     60.465999   1596.631868   1588.831987   \n",
      "std    2.850151e+10  2.850140e+10     33.570585    291.253376    291.036126   \n",
      "min    1.376772e+12  1.376772e+12      1.000000    784.000000    789.000000   \n",
      "25%    1.477548e+12  1.477548e+12     37.000000   1398.000000   1391.000000   \n",
      "50%    1.496010e+12  1.496010e+12     55.000000   1567.000000   1562.000000   \n",
      "75%    1.503170e+12  1.503170e+12     79.000000   1793.000000   1784.000000   \n",
      "max    1.504493e+12  1.504494e+12    349.000000   2700.000000   2723.000000   \n",
      "\n",
      "        opening_ply  \n",
      "count  20058.000000  \n",
      "mean       4.816981  \n",
      "std        2.797152  \n",
      "min        1.000000  \n",
      "25%        3.000000  \n",
      "50%        4.000000  \n",
      "75%        6.000000  \n",
      "max       28.000000  \n",
      "\n",
      "          id  rated    created_at  last_move_at  turns victory_status winner  \\\n",
      "0  TZJHLljE  False  1.504210e+12  1.504210e+12     13      outoftime  white   \n",
      "1  l1NXvwaE   True  1.504130e+12  1.504130e+12     16         resign  black   \n",
      "2  mIICvQHh   True  1.504130e+12  1.504130e+12     61           mate  white   \n",
      "3  kWKvrqYL   True  1.504110e+12  1.504110e+12     61           mate  white   \n",
      "4  9tXo1AUZ   True  1.504030e+12  1.504030e+12     95           mate  white   \n",
      "\n",
      "  increment_code       white_id  white_rating      black_id  black_rating  \\\n",
      "0           15+2       bourgris          1500          a-00          1191   \n",
      "1           5+10           a-00          1322     skinnerua          1261   \n",
      "2           5+10         ischia          1496          a-00          1500   \n",
      "3           20+0  daniamurashov          1439  adivanov2009          1454   \n",
      "4           30+3      nik221107          1523  adivanov2009          1469   \n",
      "\n",
      "                                               moves opening_eco  \\\n",
      "0  d4 d5 c4 c6 cxd5 e6 dxe6 fxe6 Nf3 Bb4+ Nc3 Ba5...         D10   \n",
      "1  d4 Nc6 e4 e5 f4 f6 dxe5 fxe5 fxe5 Nxe5 Qd4 Nc6...         B00   \n",
      "2  e4 e5 d3 d6 Be3 c6 Be2 b5 Nd2 a5 a4 c5 axb5 Nc...         C20   \n",
      "3  d4 d5 Nf3 Bf5 Nc3 Nf6 Bf4 Ng4 e3 Nc6 Be2 Qd7 O...         D02   \n",
      "4  e4 e5 Nf3 d6 d4 Nc6 d5 Nb4 a3 Na6 Nc3 Be7 b4 N...         C41   \n",
      "\n",
      "                             opening_name  opening_ply  \n",
      "0        Slav Defense: Exchange Variation            5  \n",
      "1  Nimzowitsch Defense: Kennedy Variation            4  \n",
      "2   King's Pawn Game: Leonardis Variation            3  \n",
      "3  Queen's Pawn Game: Zukertort Variation            3  \n",
      "4                        Philidor Defense            5  \n"
     ]
    }
   ],
   "source": [
    "# Display some data, statistics, and summary info\n",
    "print(df_chess.describe())\n",
    "print(\"\\n\", df_chess.head())\n",
    "\n",
    "# Display data fequencies for some features\n",
    "opening_counts = df_chess['Opening'].str.strip().value_counts().sort_index()\n",
    "print(\"\\n\", opening_counts)\n",
    "\n",
    "event_counts = df_chess['Event'].value_counts().sort_index()\n",
    "print(\"\\n\", event_counts)\n",
    "\n",
    "termination_counts = df_chess['Termination'].value_counts().sort_index()\n",
    "print(\"\\n\", termination_counts)"
   ]
  }
 ],
 "metadata": {
  "kernelspec": {
   "display_name": "MachineLearning",
   "language": "python",
   "name": "python3"
  },
  "language_info": {
   "codemirror_mode": {
    "name": "ipython",
    "version": 3
   },
   "file_extension": ".py",
   "mimetype": "text/x-python",
   "name": "python",
   "nbconvert_exporter": "python",
   "pygments_lexer": "ipython3",
   "version": "3.10.12"
  }
 },
 "nbformat": 4,
 "nbformat_minor": 2
}

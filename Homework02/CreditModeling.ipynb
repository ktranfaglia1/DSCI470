{
 "cells": [
  {
   "cell_type": "code",
   "execution_count": 1,
   "id": "26f8bb3d-dc98-43e9-a80f-cb8ad15bc98c",
   "metadata": {},
   "outputs": [],
   "source": [
    "import pandas as pd\n",
    "import scipy as sc\n",
    "import numpy as np\n",
    "import matplotlib.pyplot as plt\n",
    "import seaborn as sns\n",
    "sns.set_theme(style=\"darkgrid\")\n",
    "from sklearn.linear_model import LinearRegression\n",
    "\n",
    "from sklearn.linear_model import LogisticRegression \n",
    "\n",
    "from sklearn.neighbors import KNeighborsRegressor\n",
    "\n",
    "\n",
    "from sklearn.neighbors import KNeighborsClassifier\n",
    "\n",
    "from sklearn.model_selection import train_test_split, cross_val_score\n",
    "\n",
    "\n",
    "from sklearn.metrics import r2_score\n",
    "\n",
    "from matplotlib.colors import ListedColormap, colorConverter, LinearSegmentedColormap\n",
    "\n",
    "df = pd.read_csv(\"german.data\", sep=\" \", header=None,names=['checking','duration','history','purpose','credit_amt','savings','employment','installment_rste','personal_status',\n",
    "                                                           'other_debtors','resident_since','property','age','other_plans','housing','credits_at_bank','job','liable_maintenance','telephone','foreign_worker','credit_risk'])"
   ]
  },
  {
   "cell_type": "markdown",
   "id": "56adb5d6-6e79-4fcd-8d12-9c934c987497",
   "metadata": {},
   "source": [
    "# Representing Data Assignment #\n",
    "\n",
    "## Eploratory Data analysis ##\n",
    "\n",
    "The first two lines of code above imported the packages you should nee and the data you will be working on. This dataset classifies people described by a set of attributes as good or bad credit risks.**You want to answer the question what makes a creditor good or bad?** The first thing you should do is explore the data. look at what the features are, what type they are and how you might use some or all of them to predict wether they will be a good or bad creditor. you may want to include distrributions or boxplots of some of the features. You can include One-hot-encoding here. Describe your finidings in a few sentences."
   ]
  },
  {
   "cell_type": "code",
   "execution_count": null,
   "id": "befc546d-2c15-4023-84ae-deaf0f5d2dbf",
   "metadata": {},
   "outputs": [],
   "source": []
  },
  {
   "cell_type": "markdown",
   "id": "4f61f0c7-ec86-4851-91b6-10beec9a6e9c",
   "metadata": {},
   "source": [
    "TO DO: Finidings"
   ]
  },
  {
   "cell_type": "markdown",
   "id": "9ee15bdb-3515-47cb-9dd2-fb970c716d40",
   "metadata": {},
   "source": [
    "## Baseline Model ##\n",
    "\n",
    "Now based on your exploration you should have noted that some features are categorical and some are numerical. As we have learned building a model only makes sense if the data is represented in a numerical way. Therfore, to get a baseline create a classification model of your choosing (ie. knn, logistic, SVM, decision tree, etc.) and split the data into training and testing sets using only numeric features. Report the accuracy of your model on the test set."
   ]
  },
  {
   "cell_type": "code",
   "execution_count": null,
   "id": "088db73f-b636-4f83-8be7-6b1f2b711d02",
   "metadata": {},
   "outputs": [],
   "source": []
  },
  {
   "cell_type": "markdown",
   "id": "7c982ff4-6903-4d87-af89-0f67e5533125",
   "metadata": {},
   "source": [
    "To Do: accuracy"
   ]
  },
  {
   "cell_type": "markdown",
   "id": "fa06dbf2-58ec-40df-9b08-a9abd3de8f11",
   "metadata": {},
   "source": [
    "## One-hot encoding ##\n",
    "\n",
    "Now that we have a baseline for only the muneric data lets start thinking about the categorical data. Convert the categorical features into a numerical format and train your model using these features. Again report the accuracy  of this model and describe any differences that may occur in the two models."
   ]
  },
  {
   "cell_type": "code",
   "execution_count": null,
   "id": "b4682475-e724-4732-bd88-83a167699631",
   "metadata": {},
   "outputs": [],
   "source": []
  },
  {
   "cell_type": "markdown",
   "id": "f758b1d4-cab3-4f2a-8f1d-e7912bcc7741",
   "metadata": {},
   "source": [
    "To Do: accuracy and comparison"
   ]
  },
  {
   "cell_type": "markdown",
   "id": "4fa10ef0-aef9-419f-875f-a583f52e409e",
   "metadata": {},
   "source": [
    "## Feature interactions, Transformations, and Selection ##\n",
    "\n",
    "The next steps will be to possibly reduce the number of features, transform some features, and possibly create new features. Use what we have discussed in class and your exploratory analysis of the data to develop a model that increases your accuracy by 2-5%. It is okay if you are not able to obtain that much of an increase as most of the will be based on your process and analysis. You should try to explain what your finidings are and why you tried something along the way."
   ]
  },
  {
   "cell_type": "code",
   "execution_count": null,
   "id": "40761c85-79c7-466e-b3a3-56e441dabceb",
   "metadata": {},
   "outputs": [],
   "source": []
  },
  {
   "cell_type": "markdown",
   "id": "7d593eec-af7e-4ccc-8e5f-8d4cc14f5e2b",
   "metadata": {},
   "source": [
    "To Do: Analysis"
   ]
  },
  {
   "cell_type": "markdown",
   "id": "395b41a3-42a4-4c15-b168-596739d03b93",
   "metadata": {},
   "source": [
    "## Reflection ##\n",
    "\n",
    "The last part is to reflect on your work. What worked, what did not. What features seemed super important which ones did not. Was there anything that you thought this will work but did not change the model much."
   ]
  },
  {
   "cell_type": "code",
   "execution_count": null,
   "id": "0a6e6e14-7eab-49a1-b687-b7418707d946",
   "metadata": {},
   "outputs": [],
   "source": []
  }
 ],
 "metadata": {
  "kernelspec": {
   "display_name": "Python 3 (ipykernel)",
   "language": "python",
   "name": "python3"
  },
  "language_info": {
   "codemirror_mode": {
    "name": "ipython",
    "version": 3
   },
   "file_extension": ".py",
   "mimetype": "text/x-python",
   "name": "python",
   "nbconvert_exporter": "python",
   "pygments_lexer": "ipython3",
   "version": "3.9.12"
  }
 },
 "nbformat": 4,
 "nbformat_minor": 5
}
